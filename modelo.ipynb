{
 "cells": [
  {
   "cell_type": "markdown",
   "metadata": {},
   "source": [
    "# Atividade 1 da Disciplica de Machine Learning\n",
    "## Alunos - Matrícula: \n",
    "    Gabriel Miranda - 202100011430\n",
    "    Rafael Takeguma -\n",
    "    Arthur Santos   - 202000012560\n",
    "## Etapa 1: Pré-processamento dos dados"
   ]
  },
  {
   "cell_type": "markdown",
   "metadata": {},
   "source": [
    "Abrindo o dataset em um dataframe pandas"
   ]
  },
  {
   "cell_type": "code",
   "execution_count": null,
   "metadata": {},
   "outputs": [],
   "source": [
    "import pandas as pd\n",
    "\n",
    "df = pd.read_csv(\"dataset.csv\")\n",
    "df = df.dropna()\n",
    "df.head()"
   ]
  },
  {
   "cell_type": "markdown",
   "metadata": {},
   "source": [
    "Exibindo informações gerais sobre o dataset"
   ]
  },
  {
   "cell_type": "code",
   "execution_count": null,
   "metadata": {},
   "outputs": [],
   "source": [
    "df.info()"
   ]
  },
  {
   "cell_type": "markdown",
   "metadata": {},
   "source": [
    "Exibindo as colunas numéricas do dataset"
   ]
  },
  {
   "cell_type": "code",
   "execution_count": null,
   "metadata": {},
   "outputs": [],
   "source": [
    "df.describe()"
   ]
  },
  {
   "cell_type": "markdown",
   "metadata": {},
   "source": [
    "Inicialmente, removeremos colunas que não se mostram importantes para a predição da evasão, como: matrícula, data de nascimento, local de nascimento, id do estudante, centro e nome do departamento.\n",
    "Outros campos podem ser removidos posteriormente, depois de análises mais detalhadas."
   ]
  },
  {
   "cell_type": "code",
   "execution_count": null,
   "metadata": {},
   "outputs": [],
   "source": [
    "df = df.drop(columns=['curriculum_id', 'student_id', 'centro', 'department_name', 'birthday', 'birth_place'])\n",
    "df.head()"
   ]
  },
  {
   "cell_type": "markdown",
   "metadata": {},
   "source": [
    "Agora, verificaremos a importância das colunas restantes utilizando o feature_importances_ do RandomForestClassifier.\n",
    "Para os dados não-numéricos, devemos utilizar o one_hot_encoding (get_dummies) da própria biblioteca pandas, apra discretizar essas colunas."
   ]
  },
  {
   "cell_type": "code",
   "execution_count": null,
   "metadata": {},
   "outputs": [],
   "source": [
    "from sklearn.ensemble import RandomForestClassifier\n",
    "\n",
    "# Aplicação do one_hot_encoding nas colunas não-numéricas\n",
    "numericas = df.select_dtypes(include=['int64', 'float64']).columns\n",
    "nominal = df.select_dtypes(include=['object']).columns\n",
    "nominal = nominal.drop(['leaving_reason'])\n",
    "nominal_encoded_df = pd.get_dummies(df[nominal], drop_first=True)\n",
    "\n",
    "df_encoded = pd.concat([df[numericas], nominal_encoded_df, df['leaving_reason']], axis=1)\n",
    "\n",
    "# Separação do dataframe em features (somente numéricas) e target\n",
    "X = df_encoded.drop(columns=['leaving_reason'])\n",
    "y = df_encoded['leaving_reason']\n",
    "\n",
    "X"
   ]
  },
  {
   "cell_type": "code",
   "execution_count": null,
   "metadata": {},
   "outputs": [],
   "source": [
    "clf = RandomForestClassifier(random_state=42)\n",
    "clf.fit(X,y)\n",
    "\n",
    "# Dataframe da importância\n",
    "importancia = pd.DataFrame({'Variável': X.columns, 'Importância': clf.feature_importances_})\n",
    "importancia = importancia.sort_values(by=\"Importância\", ascending=False)\n",
    "importancia"
   ]
  },
  {
   "cell_type": "markdown",
   "metadata": {},
   "source": [
    "É possível observar que as colunas de locks_number pra baixo possuem pouca importância na predição do modelo (menos que 5%). Logo, removeremos essas colunas, visando simplificar o modelo."
   ]
  },
  {
   "cell_type": "code",
   "execution_count": null,
   "metadata": {},
   "outputs": [],
   "source": [
    "df_encoded = df_encoded.drop(columns=['locks_number', 'course_iepl', 'course_iech', 'course_mc', 'ingress_form_VESTIBULAR', 'course_name_ENGENHARIA DE COMPUTAÇÃO',\n",
    "                                      'ingress_form_TRANSFERÊNCIA INTERNA', 'course_name_SISTEMAS DE INFORMAÇÃO', 'ingress_form_TRANSFERÊNCIA COMPULSÓRIA', \n",
    "                                      'ingress_form_TRANSFERÊNCIA VOLUNTÁRIA', 'ingress_form_READMISSÃO', 'ingress_form_SUB JUDICE'])\n",
    "df_encoded.head()"
   ]
  },
  {
   "cell_type": "markdown",
   "metadata": {},
   "source": [
    "Após remoção inicial, utilizamos a função hist() para vizualizar os dados numéricos em forma de histograma.\n",
    "\n",
    "Dessa forma verificamos a distribuição dos dados e suas escalas."
   ]
  },
  {
   "cell_type": "code",
   "execution_count": null,
   "metadata": {},
   "outputs": [],
   "source": [
    "%matplotlib inline\n",
    "import matplotlib.pyplot as plt\n",
    "\n",
    "df_encoded.hist(bins=20, figsize=(20,15))\n",
    "plt.show()"
   ]
  },
  {
   "cell_type": "markdown",
   "metadata": {},
   "source": [
    "É possível observar que há uma descrepância na distibuição desses dados, com o iepl, por exemplo, indo de 0.3 até 1.1 enquanto o required_ch_progress vai de 0 a 100.\n",
    "Portanto, devemos aplicar alguma técnica de normalização nesses dados.\n",
    "Primeiro, separamos o dataset em treino e teste."
   ]
  },
  {
   "cell_type": "code",
   "execution_count": 26,
   "metadata": {},
   "outputs": [],
   "source": [
    "from sklearn.model_selection import train_test_split\n",
    "\n",
    "X = df_encoded.drop(columns=['leaving_reason'])\n",
    "y = df_encoded['leaving_reason']\n",
    "X_train, X_test, y_train, y_test = train_test_split(X, y, test_size=0.2, random_state=42)"
   ]
  },
  {
   "cell_type": "markdown",
   "metadata": {},
   "source": [
    "### Etapa 2 - Seleção de modelo\n",
    "Verificando a acuracia do RandomForestClassifier que já foi treinado"
   ]
  },
  {
   "cell_type": "code",
   "execution_count": null,
   "metadata": {},
   "outputs": [],
   "source": [
    "from sklearn.metrics import accuracy_score, classification_report, confusion_matrix\n",
    "\n",
    "y_pred_class = clf.predict(X_test)\n",
    "\n",
    "accuracy = accuracy_score(y_test, y_pred_class)\n",
    "print(f\"Acurácia: {accuracy:.2f}\")\n",
    "\n",
    "print(\"Relatório de Classificação:\")\n",
    "print(classification_report(y_test, y_pred_class))\n",
    "\n",
    "print(\"Matriz de Confusão:\")\n",
    "print(confusion_matrix(y_test, y_pred_class))\n"
   ]
  },
  {
   "cell_type": "markdown",
   "metadata": {},
   "source": [
    "Agora vamos converter y para valores numericos e usar a regressão linear:"
   ]
  },
  {
   "cell_type": "code",
   "execution_count": null,
   "metadata": {},
   "outputs": [],
   "source": [
    "from sklearn.preprocessing import LabelEncoder\n",
    "from sklearn.linear_model import LinearRegression\n",
    "from sklearn.metrics import mean_squared_error, r2_score\n",
    "from sklearn.model_selection import train_test_split\n",
    "from sklearn.preprocessing import StandardScaler\n",
    "\n",
    "# Normalizando os dados\n",
    "scaler = StandardScaler()\n",
    "\n",
    "\n",
    "# Codificação de 'leaving_reason' para números\n",
    "label_encoder = LabelEncoder()\n",
    "y_numeric = label_encoder.fit_transform(df['leaving_reason'])\n",
    "\n",
    "# Separação do dataframe em features (somente numéricas) e target\n",
    "X = df_encoded.drop(columns=['leaving_reason'])\n",
    "y = y_numeric  # Agora 'y' é a versão numérica\n",
    "\n",
    "# Separando os dados em treinamento e teste\n",
    "X_train, X_test, y_train, y_test = train_test_split(X, y, test_size=0.2, random_state=42)\n",
    "\n",
    "# Ajustando e transformando os dados de treinamento\n",
    "X_train_scaled = scaler.fit_transform(X_train)\n",
    "\n",
    "# Transformando os dados de teste\n",
    "X_test_scaled = scaler.transform(X_test)\n",
    "\n",
    "# Criando o modelo\n",
    "modelo = LinearRegression()\n",
    "\n",
    "# Treinando o modelo\n",
    "modelo.fit(X_train_scaled, y_train)\n",
    "\n",
    "# Fazendo previsões\n",
    "y_pred = modelo.predict(X_test_scaled)\n",
    "\n",
    "# Calculando as métricas\n",
    "mse = mean_squared_error(y_test, y_pred)\n",
    "rmse = mse**0.5\n",
    "r2 = r2_score(y_test, y_pred)\n",
    "\n",
    "# Exibindo os resultados\n",
    "print(f\"Mean Squared Error (MSE): {mse:.2f}\")\n",
    "print(f\"Root Mean Squared Error (RMSE): {rmse:.2f}\")\n",
    "print(f\"R² Score: {r2:.2f}\")\n"
   ]
  },
  {
   "cell_type": "markdown",
   "metadata": {},
   "source": [
    "Agora vamos usar DecisonTreeRegressor:"
   ]
  },
  {
   "cell_type": "code",
   "execution_count": null,
   "metadata": {},
   "outputs": [],
   "source": [
    "from sklearn.tree import DecisionTreeRegressor\n",
    "from sklearn.metrics import mean_squared_error, r2_score\n",
    "from sklearn.preprocessing import StandardScaler\n",
    "\n",
    "\n",
    "# Normalizando os dados\n",
    "scaler = StandardScaler()\n",
    "\n",
    "# Ajustando e transformando os dados de treinamento\n",
    "X_train_scaled = scaler.fit_transform(X_train)\n",
    "\n",
    "# Transformando os dados de teste\n",
    "X_test_scaled = scaler.transform(X_test)\n",
    "\n",
    "# Criando o modelo de árvore de decisão para regressão\n",
    "modelo_tree = DecisionTreeRegressor(random_state=42)\n",
    "\n",
    "# Ajustando o modelo aos dados de treinamento\n",
    "modelo_tree.fit(X_train_scaled, y_train)\n",
    "\n",
    "# Fazendo previsões sobre os dados de teste\n",
    "y_pred_tree = modelo_tree.predict(X_test_scaled)\n",
    "\n",
    "# Calculando as métricas de avaliação\n",
    "mse_tree = mean_squared_error(y_test, y_pred_tree)\n",
    "rmse_tree = mse_tree**0.5\n",
    "r2_tree = r2_score(y_test, y_pred_tree)\n",
    "\n",
    "# Exibindo as métricas\n",
    "print(f\"Mean Squared Error (MSE): {mse_tree:.2f}\")\n",
    "print(f\"Root Mean Squared Error (RMSE): {rmse_tree:.2f}\")\n",
    "print(f\"R² Score: {r2_tree:.2f}\")\n"
   ]
  },
  {
   "cell_type": "markdown",
   "metadata": {},
   "source": [
    "Vamos testar agora o RandomForestetRegressor:"
   ]
  },
  {
   "cell_type": "code",
   "execution_count": null,
   "metadata": {},
   "outputs": [],
   "source": [
    "from sklearn.ensemble import RandomForestRegressor\n",
    "from sklearn.metrics import mean_squared_error, r2_score\n",
    "from sklearn.preprocessing import StandardScaler\n",
    "\n",
    "# Normalizando os dados\n",
    "scaler = StandardScaler()\n",
    "\n",
    "# Ajustando e transformando os dados de treinamento\n",
    "X_train_scaled = scaler.fit_transform(X_train)\n",
    "\n",
    "# Transformando os dados de teste\n",
    "X_test_scaled = scaler.transform(X_test)\n",
    "\n",
    "# Instanciar o modelo RandomForestRegressor\n",
    "rf_model = RandomForestRegressor(n_estimators=100, random_state=42)\n",
    "\n",
    "# Treinar o modelo\n",
    "rf_model.fit(X_train_scaled, y_train)\n",
    "\n",
    "# Fazer previsões\n",
    "y_pred_rf = rf_model.predict(X_test_scaled)\n",
    "\n",
    "# Calcular as métricas de avaliação\n",
    "mse_rf = mean_squared_error(y_test, y_pred_rf)\n",
    "rmse_rf = mse_rf**0.5\n",
    "r2_rf = r2_score(y_test, y_pred_rf)\n",
    "\n",
    "# Exibir os resultados\n",
    "print(f\"Random Forest - Mean Squared Error (MSE): {mse_rf:.2f}\")\n",
    "print(f\"Random Forest - Root Mean Squared Error (RMSE): {rmse_rf:.2f}\")\n",
    "print(f\"Random Forest - R² Score: {r2_rf:.2f}\")"
   ]
  },
  {
   "cell_type": "markdown",
   "metadata": {},
   "source": [
    "Vamos usar o KNeighborsRegressor agora:"
   ]
  },
  {
   "cell_type": "code",
   "execution_count": null,
   "metadata": {},
   "outputs": [],
   "source": [
    "from sklearn.neighbors import KNeighborsRegressor\n",
    "from sklearn.metrics import mean_squared_error, r2_score\n",
    "from sklearn.preprocessing import StandardScaler\n",
    "\n",
    "# Normalizando os dados\n",
    "scaler = StandardScaler()\n",
    "\n",
    "# Ajustando e transformando os dados de treinamento\n",
    "X_train_scaled = scaler.fit_transform(X_train)\n",
    "\n",
    "# Transformando os dados de teste\n",
    "X_test_scaled = scaler.transform(X_test)\n",
    "\n",
    "# Instanciar o modelo KNeighborsRegressor\n",
    "knn_model = KNeighborsRegressor(n_neighbors=5)\n",
    "\n",
    "# Treinar o modelo\n",
    "knn_model.fit(X_train_scaled, y_train)\n",
    "\n",
    "# Fazer previsões\n",
    "y_pred_knn = knn_model.predict(X_test_scaled)\n",
    "\n",
    "# Calcular as métricas de avaliação\n",
    "mse_knn = mean_squared_error(y_test, y_pred_knn)\n",
    "rmse_knn = mse_knn**0.5\n",
    "r2_knn = r2_score(y_test, y_pred_knn)\n",
    "\n",
    "# Exibir os resultados\n",
    "print(f\"KNN - Mean Squared Error (MSE): {mse_knn:.2f}\")\n",
    "print(f\"KNN - Root Mean Squared Error (RMSE): {rmse_knn:.2f}\")\n",
    "print(f\"KNN - R² Score: {r2_knn:.2f}\")\n"
   ]
  },
  {
   "cell_type": "markdown",
   "metadata": {},
   "source": [
    "Agora vamos comparar os modelos:"
   ]
  },
  {
   "cell_type": "code",
   "execution_count": 46,
   "metadata": {},
   "outputs": [
    {
     "name": "stdout",
     "output_type": "stream",
     "text": [
      "Modelo: Linear Regression\n",
      "Mean Squared Error (MSE): 4.96\n",
      "Root Mean Squared Error (RMSE): 2.23\n",
      "R² Score: 0.38\n",
      "--------------------------------------------------\n",
      "Modelo: Random Forest\n",
      "Mean Squared Error (MSE): 4.35\n",
      "Root Mean Squared Error (RMSE): 2.09\n",
      "R² Score: 0.46\n",
      "--------------------------------------------------\n",
      "Modelo: K-Nearest Neighbors\n",
      "Mean Squared Error (MSE): 4.86\n",
      "Root Mean Squared Error (RMSE): 2.20\n",
      "R² Score: 0.39\n",
      "--------------------------------------------------\n",
      "Modelo: Decision Tree\n",
      "Mean Squared Error (MSE): 10.27\n",
      "Root Mean Squared Error (RMSE): 3.20\n",
      "R² Score: -0.28\n",
      "--------------------------------------------------\n"
     ]
    }
   ],
   "source": [
    "from sklearn.linear_model import LinearRegression\n",
    "from sklearn.ensemble import RandomForestRegressor\n",
    "from sklearn.neighbors import KNeighborsRegressor\n",
    "from sklearn.tree import DecisionTreeRegressor\n",
    "from sklearn.metrics import mean_squared_error, r2_score\n",
    "from sklearn.preprocessing import StandardScaler\n",
    "from sklearn.model_selection import train_test_split\n",
    "\n",
    "# Normalização dos dados\n",
    "scaler = StandardScaler()\n",
    "\n",
    "# Ajustando e transformando os dados de treinamento\n",
    "X_train_scaled = scaler.fit_transform(X_train)\n",
    "X_test_scaled = scaler.transform(X_test)\n",
    "\n",
    "# Definindo os modelos\n",
    "models = {\n",
    "    \"Linear Regression\": LinearRegression(),\n",
    "    \"Random Forest\": RandomForestRegressor(n_estimators=100, random_state=42),\n",
    "    \"K-Nearest Neighbors\": KNeighborsRegressor(n_neighbors=5),\n",
    "    \"Decision Tree\": DecisionTreeRegressor(random_state=42)\n",
    "}\n",
    "\n",
    "# Dicionário para armazenar os resultados\n",
    "results = {}\n",
    "\n",
    "# Treinando e avaliando os modelos\n",
    "for name, model in models.items():\n",
    "    model.fit(X_train_scaled, y_train)  # Treinando o modelo\n",
    "    y_pred = model.predict(X_test_scaled)  # Fazendo previsões\n",
    "    \n",
    "    # Calculando as métricas\n",
    "    mse = mean_squared_error(y_test, y_pred)\n",
    "    rmse = mse ** 0.5\n",
    "    r2 = r2_score(y_test, y_pred)\n",
    "    \n",
    "    # Armazenando os resultados\n",
    "    results[name] = {\n",
    "        \"MSE\": mse,\n",
    "        \"RMSE\": rmse,\n",
    "        \"R² Score\": r2\n",
    "    }\n",
    "\n",
    "# Exibindo os resultados\n",
    "for name, metrics in results.items():\n",
    "    print(f\"Modelo: {name}\")\n",
    "    print(f\"Mean Squared Error (MSE): {metrics['MSE']:.2f}\")\n",
    "    print(f\"Root Mean Squared Error (RMSE): {metrics['RMSE']:.2f}\")\n",
    "    print(f\"R² Score: {metrics['R² Score']:.2f}\")\n",
    "    print(\"-\" * 50)\n"
   ]
  },
  {
   "cell_type": "markdown",
   "metadata": {},
   "source": [
    "De acordo com os resultados o modelo com o melhor resultado foi o RandomForestRegressor."
   ]
  }
 ],
 "metadata": {
  "kernelspec": {
   "display_name": "Python 3",
   "language": "python",
   "name": "python3"
  },
  "language_info": {
   "codemirror_mode": {
    "name": "ipython",
    "version": 3
   },
   "file_extension": ".py",
   "mimetype": "text/x-python",
   "name": "python",
   "nbconvert_exporter": "python",
   "pygments_lexer": "ipython3",
   "version": "3.9.2"
  }
 },
 "nbformat": 4,
 "nbformat_minor": 2
}
